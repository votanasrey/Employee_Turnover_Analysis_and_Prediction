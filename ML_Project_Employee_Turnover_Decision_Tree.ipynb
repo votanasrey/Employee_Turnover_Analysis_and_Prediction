{
 "cells": [
  {
   "cell_type": "markdown",
   "id": "101dfa21",
   "metadata": {},
   "source": [
    "<hr/>\n",
    "<h1>Employee Turnover Analytics</h1>\n",
    "<hr/>"
   ]
  },
  {
   "cell_type": "markdown",
   "id": "c44cd4c0",
   "metadata": {},
   "source": [
    "### Import Dependencies || Packages\n",
    "<hr/>"
   ]
  },
  {
   "cell_type": "code",
   "execution_count": 478,
   "id": "51ff7db3",
   "metadata": {},
   "outputs": [],
   "source": [
    "# Import the neccessary modules for data manipulation and visual representation\n",
    "\n",
    "import pandas as pd\n",
    "import numpy as np\n",
    "import matplotlib.pyplot as plt\n",
    "import matplotlib as matplot\n",
    "import seaborn as sns\n",
    "%matplotlib inline\n",
    "\n",
    "from sklearn.model_selection import train_test_split\n",
    "from sklearn.model_selection import KFold\n",
    "from sklearn.metrics import accuracy_score, classification_report, precision_score, recall_score, confusion_matrix, precision_recall_curve\n",
    "from sklearn.linear_model import LogisticRegression\n",
    "from sklearn import model_selection\n",
    "from sklearn.metrics import roc_auc_score\n",
    "from sklearn import tree\n",
    "from sklearn.tree import DecisionTreeClassifier"
   ]
  },
  {
   "cell_type": "markdown",
   "id": "44445461",
   "metadata": {},
   "source": [
    "### Load the Dataset\n",
    "<hr/>"
   ]
  },
  {
   "cell_type": "code",
   "execution_count": 479,
   "id": "667b347c",
   "metadata": {},
   "outputs": [
    {
     "data": {
      "text/html": [
       "<div>\n",
       "<style scoped>\n",
       "    .dataframe tbody tr th:only-of-type {\n",
       "        vertical-align: middle;\n",
       "    }\n",
       "\n",
       "    .dataframe tbody tr th {\n",
       "        vertical-align: top;\n",
       "    }\n",
       "\n",
       "    .dataframe thead th {\n",
       "        text-align: right;\n",
       "    }\n",
       "</style>\n",
       "<table border=\"1\" class=\"dataframe\">\n",
       "  <thead>\n",
       "    <tr style=\"text-align: right;\">\n",
       "      <th></th>\n",
       "      <th>satisfaction_level</th>\n",
       "      <th>last_evaluation</th>\n",
       "      <th>number_project</th>\n",
       "      <th>average_montly_hours</th>\n",
       "      <th>time_spend_company</th>\n",
       "      <th>work_accident</th>\n",
       "      <th>promotion_last_5years</th>\n",
       "      <th>department</th>\n",
       "      <th>salary</th>\n",
       "      <th>attrition</th>\n",
       "    </tr>\n",
       "  </thead>\n",
       "  <tbody>\n",
       "    <tr>\n",
       "      <th>0</th>\n",
       "      <td>0.38</td>\n",
       "      <td>0.53</td>\n",
       "      <td>2</td>\n",
       "      <td>157</td>\n",
       "      <td>3</td>\n",
       "      <td>0</td>\n",
       "      <td>0</td>\n",
       "      <td>sales</td>\n",
       "      <td>low</td>\n",
       "      <td>1</td>\n",
       "    </tr>\n",
       "    <tr>\n",
       "      <th>1</th>\n",
       "      <td>0.80</td>\n",
       "      <td>0.86</td>\n",
       "      <td>5</td>\n",
       "      <td>262</td>\n",
       "      <td>6</td>\n",
       "      <td>0</td>\n",
       "      <td>0</td>\n",
       "      <td>sales</td>\n",
       "      <td>medium</td>\n",
       "      <td>1</td>\n",
       "    </tr>\n",
       "    <tr>\n",
       "      <th>2</th>\n",
       "      <td>0.11</td>\n",
       "      <td>0.88</td>\n",
       "      <td>7</td>\n",
       "      <td>272</td>\n",
       "      <td>4</td>\n",
       "      <td>0</td>\n",
       "      <td>0</td>\n",
       "      <td>sales</td>\n",
       "      <td>medium</td>\n",
       "      <td>1</td>\n",
       "    </tr>\n",
       "    <tr>\n",
       "      <th>3</th>\n",
       "      <td>0.72</td>\n",
       "      <td>0.87</td>\n",
       "      <td>5</td>\n",
       "      <td>223</td>\n",
       "      <td>5</td>\n",
       "      <td>0</td>\n",
       "      <td>0</td>\n",
       "      <td>sales</td>\n",
       "      <td>low</td>\n",
       "      <td>1</td>\n",
       "    </tr>\n",
       "    <tr>\n",
       "      <th>4</th>\n",
       "      <td>0.37</td>\n",
       "      <td>0.52</td>\n",
       "      <td>2</td>\n",
       "      <td>159</td>\n",
       "      <td>3</td>\n",
       "      <td>0</td>\n",
       "      <td>0</td>\n",
       "      <td>sales</td>\n",
       "      <td>low</td>\n",
       "      <td>1</td>\n",
       "    </tr>\n",
       "  </tbody>\n",
       "</table>\n",
       "</div>"
      ],
      "text/plain": [
       "   satisfaction_level  last_evaluation  number_project  average_montly_hours  \\\n",
       "0                0.38             0.53               2                   157   \n",
       "1                0.80             0.86               5                   262   \n",
       "2                0.11             0.88               7                   272   \n",
       "3                0.72             0.87               5                   223   \n",
       "4                0.37             0.52               2                   159   \n",
       "\n",
       "   time_spend_company  work_accident  promotion_last_5years department  \\\n",
       "0                   3              0                      0      sales   \n",
       "1                   6              0                      0      sales   \n",
       "2                   4              0                      0      sales   \n",
       "3                   5              0                      0      sales   \n",
       "4                   3              0                      0      sales   \n",
       "\n",
       "   salary  attrition  \n",
       "0     low          1  \n",
       "1  medium          1  \n",
       "2  medium          1  \n",
       "3     low          1  \n",
       "4     low          1  "
      ]
     },
     "execution_count": 479,
     "metadata": {},
     "output_type": "execute_result"
    }
   ],
   "source": [
    "#read the data from csv \n",
    "data = pd.read_csv(\"emp_turnover.csv\", encoding=\"ISO-8859-1\")\n",
    "data.head()"
   ]
  },
  {
   "cell_type": "markdown",
   "id": "812fadc4",
   "metadata": {},
   "source": [
    "### Data Quality Checking \n",
    "<hr/>"
   ]
  },
  {
   "cell_type": "code",
   "execution_count": 480,
   "id": "ecc3fb5c",
   "metadata": {},
   "outputs": [
    {
     "data": {
      "text/plain": [
       "satisfaction_level       False\n",
       "last_evaluation          False\n",
       "number_project           False\n",
       "average_montly_hours     False\n",
       "time_spend_company       False\n",
       "work_accident            False\n",
       "promotion_last_5years    False\n",
       "department               False\n",
       "salary                   False\n",
       "attrition                False\n",
       "dtype: bool"
      ]
     },
     "execution_count": 480,
     "metadata": {},
     "output_type": "execute_result"
    }
   ],
   "source": [
    "# Can you check to see if there are any missing values in our data set\n",
    "data.isnull().any()"
   ]
  },
  {
   "cell_type": "code",
   "execution_count": 481,
   "id": "53c65bb3",
   "metadata": {},
   "outputs": [
    {
     "name": "stdout",
     "output_type": "stream",
     "text": [
      "0 , satisfaction_level\n",
      "1 , last_evaluation\n",
      "2 , number_project\n",
      "3 , average_montly_hours\n",
      "4 , time_spend_company\n",
      "5 , work_accident\n",
      "6 , promotion_last_5years\n",
      "7 , department\n",
      "8 , salary\n",
      "9 , attrition\n"
     ]
    }
   ],
   "source": [
    "#check the feature title of dataset\n",
    "for i,j in enumerate(data.columns):\n",
    "    print(i, \",\" , j)"
   ]
  },
  {
   "cell_type": "code",
   "execution_count": 482,
   "id": "554c88ee",
   "metadata": {},
   "outputs": [],
   "source": [
    "# raname the features in the dataset, easy to read and work on it.\n",
    "# Renaming certain columns for better readability\n",
    "\n",
    "data = data.rename(\n",
    "    columns={'satisfaction_level': 'satisfaction_level', \n",
    "            'last_evaluation': 'evaluation',\n",
    "            'number_project': 'number_project',\n",
    "            'average_montly_hours': 'avg_monthly_hours',\n",
    "            'time_spend_company': 'time_spend_with_company',\n",
    "            'Work_accident': 'work_accident',\n",
    "            'promotion_last_5years': 'promotion',\n",
    "            'department' : 'department',\n",
    "             'salary':'salary',\n",
    "            'attrition' : 'turnover_lebel'\n",
    "})"
   ]
  },
  {
   "cell_type": "code",
   "execution_count": 483,
   "id": "5f61f15c",
   "metadata": {},
   "outputs": [
    {
     "data": {
      "text/plain": [
       "satisfaction_level         float64\n",
       "evaluation                 float64\n",
       "number_project               int64\n",
       "avg_monthly_hours            int64\n",
       "time_spend_with_company      int64\n",
       "work_accident                int64\n",
       "promotion                    int64\n",
       "department                  object\n",
       "salary                      object\n",
       "turnover_lebel               int64\n",
       "dtype: object"
      ]
     },
     "execution_count": 483,
     "metadata": {},
     "output_type": "execute_result"
    }
   ],
   "source": [
    "# Check the type of our features. Are there any data inconsistencies?\n",
    "data.dtypes"
   ]
  },
  {
   "cell_type": "markdown",
   "id": "6972d9ad",
   "metadata": {},
   "source": [
    "### Exploratory Data Analysis | EDA\n",
    "<hr/>"
   ]
  },
  {
   "cell_type": "code",
   "execution_count": 484,
   "id": "6b4ec240",
   "metadata": {},
   "outputs": [
    {
     "data": {
      "text/plain": [
       "(14999, 10)"
      ]
     },
     "execution_count": 484,
     "metadata": {},
     "output_type": "execute_result"
    }
   ],
   "source": [
    "#check the number of dataset's shape\n",
    "data.shape"
   ]
  },
  {
   "cell_type": "code",
   "execution_count": 485,
   "id": "e0432468",
   "metadata": {},
   "outputs": [
    {
     "data": {
      "text/plain": [
       "0    0.761917\n",
       "1    0.238083\n",
       "Name: turnover_lebel, dtype: float64"
      ]
     },
     "execution_count": 485,
     "metadata": {},
     "output_type": "execute_result"
    }
   ],
   "source": [
    "# Calculate the turnover rate of our company's dataset. What's the rate of turnover?\n",
    "employee_turnover_rate = (data.turnover_lebel.value_counts() / 14999)\n",
    "employee_turnover_rate"
   ]
  },
  {
   "cell_type": "code",
   "execution_count": 486,
   "id": "b579a590",
   "metadata": {},
   "outputs": [
    {
     "data": {
      "text/html": [
       "<div>\n",
       "<style scoped>\n",
       "    .dataframe tbody tr th:only-of-type {\n",
       "        vertical-align: middle;\n",
       "    }\n",
       "\n",
       "    .dataframe tbody tr th {\n",
       "        vertical-align: top;\n",
       "    }\n",
       "\n",
       "    .dataframe thead th {\n",
       "        text-align: right;\n",
       "    }\n",
       "</style>\n",
       "<table border=\"1\" class=\"dataframe\">\n",
       "  <thead>\n",
       "    <tr style=\"text-align: right;\">\n",
       "      <th></th>\n",
       "      <th>satisfaction_level</th>\n",
       "      <th>evaluation</th>\n",
       "      <th>number_project</th>\n",
       "      <th>avg_monthly_hours</th>\n",
       "      <th>time_spend_with_company</th>\n",
       "      <th>work_accident</th>\n",
       "      <th>promotion</th>\n",
       "      <th>turnover_lebel</th>\n",
       "    </tr>\n",
       "  </thead>\n",
       "  <tbody>\n",
       "    <tr>\n",
       "      <th>count</th>\n",
       "      <td>14999.000000</td>\n",
       "      <td>14999.000000</td>\n",
       "      <td>14999.000000</td>\n",
       "      <td>14999.000000</td>\n",
       "      <td>14999.000000</td>\n",
       "      <td>14999.000000</td>\n",
       "      <td>14999.000000</td>\n",
       "      <td>14999.000000</td>\n",
       "    </tr>\n",
       "    <tr>\n",
       "      <th>mean</th>\n",
       "      <td>0.612834</td>\n",
       "      <td>0.716102</td>\n",
       "      <td>3.803054</td>\n",
       "      <td>201.050337</td>\n",
       "      <td>3.498233</td>\n",
       "      <td>0.144610</td>\n",
       "      <td>0.021268</td>\n",
       "      <td>0.238083</td>\n",
       "    </tr>\n",
       "    <tr>\n",
       "      <th>std</th>\n",
       "      <td>0.248631</td>\n",
       "      <td>0.171169</td>\n",
       "      <td>1.232592</td>\n",
       "      <td>49.943099</td>\n",
       "      <td>1.460136</td>\n",
       "      <td>0.351719</td>\n",
       "      <td>0.144281</td>\n",
       "      <td>0.425924</td>\n",
       "    </tr>\n",
       "    <tr>\n",
       "      <th>min</th>\n",
       "      <td>0.090000</td>\n",
       "      <td>0.360000</td>\n",
       "      <td>2.000000</td>\n",
       "      <td>96.000000</td>\n",
       "      <td>2.000000</td>\n",
       "      <td>0.000000</td>\n",
       "      <td>0.000000</td>\n",
       "      <td>0.000000</td>\n",
       "    </tr>\n",
       "    <tr>\n",
       "      <th>25%</th>\n",
       "      <td>0.440000</td>\n",
       "      <td>0.560000</td>\n",
       "      <td>3.000000</td>\n",
       "      <td>156.000000</td>\n",
       "      <td>3.000000</td>\n",
       "      <td>0.000000</td>\n",
       "      <td>0.000000</td>\n",
       "      <td>0.000000</td>\n",
       "    </tr>\n",
       "    <tr>\n",
       "      <th>50%</th>\n",
       "      <td>0.640000</td>\n",
       "      <td>0.720000</td>\n",
       "      <td>4.000000</td>\n",
       "      <td>200.000000</td>\n",
       "      <td>3.000000</td>\n",
       "      <td>0.000000</td>\n",
       "      <td>0.000000</td>\n",
       "      <td>0.000000</td>\n",
       "    </tr>\n",
       "    <tr>\n",
       "      <th>75%</th>\n",
       "      <td>0.820000</td>\n",
       "      <td>0.870000</td>\n",
       "      <td>5.000000</td>\n",
       "      <td>245.000000</td>\n",
       "      <td>4.000000</td>\n",
       "      <td>0.000000</td>\n",
       "      <td>0.000000</td>\n",
       "      <td>0.000000</td>\n",
       "    </tr>\n",
       "    <tr>\n",
       "      <th>max</th>\n",
       "      <td>1.000000</td>\n",
       "      <td>1.000000</td>\n",
       "      <td>7.000000</td>\n",
       "      <td>310.000000</td>\n",
       "      <td>10.000000</td>\n",
       "      <td>1.000000</td>\n",
       "      <td>1.000000</td>\n",
       "      <td>1.000000</td>\n",
       "    </tr>\n",
       "  </tbody>\n",
       "</table>\n",
       "</div>"
      ],
      "text/plain": [
       "       satisfaction_level    evaluation  number_project  avg_monthly_hours  \\\n",
       "count        14999.000000  14999.000000    14999.000000       14999.000000   \n",
       "mean             0.612834      0.716102        3.803054         201.050337   \n",
       "std              0.248631      0.171169        1.232592          49.943099   \n",
       "min              0.090000      0.360000        2.000000          96.000000   \n",
       "25%              0.440000      0.560000        3.000000         156.000000   \n",
       "50%              0.640000      0.720000        4.000000         200.000000   \n",
       "75%              0.820000      0.870000        5.000000         245.000000   \n",
       "max              1.000000      1.000000        7.000000         310.000000   \n",
       "\n",
       "       time_spend_with_company  work_accident     promotion  turnover_lebel  \n",
       "count             14999.000000   14999.000000  14999.000000    14999.000000  \n",
       "mean                  3.498233       0.144610      0.021268        0.238083  \n",
       "std                   1.460136       0.351719      0.144281        0.425924  \n",
       "min                   2.000000       0.000000      0.000000        0.000000  \n",
       "25%                   3.000000       0.000000      0.000000        0.000000  \n",
       "50%                   3.000000       0.000000      0.000000        0.000000  \n",
       "75%                   4.000000       0.000000      0.000000        0.000000  \n",
       "max                  10.000000       1.000000      1.000000        1.000000  "
      ]
     },
     "execution_count": 486,
     "metadata": {},
     "output_type": "execute_result"
    }
   ],
   "source": [
    "# Display the statistical overview of the employees\n",
    "data.describe()"
   ]
  },
  {
   "cell_type": "code",
   "execution_count": 487,
   "id": "6a91de8f",
   "metadata": {},
   "outputs": [
    {
     "data": {
      "text/html": [
       "<div>\n",
       "<style scoped>\n",
       "    .dataframe tbody tr th:only-of-type {\n",
       "        vertical-align: middle;\n",
       "    }\n",
       "\n",
       "    .dataframe tbody tr th {\n",
       "        vertical-align: top;\n",
       "    }\n",
       "\n",
       "    .dataframe thead th {\n",
       "        text-align: right;\n",
       "    }\n",
       "</style>\n",
       "<table border=\"1\" class=\"dataframe\">\n",
       "  <thead>\n",
       "    <tr style=\"text-align: right;\">\n",
       "      <th></th>\n",
       "      <th>satisfaction_level</th>\n",
       "      <th>evaluation</th>\n",
       "      <th>number_project</th>\n",
       "      <th>avg_monthly_hours</th>\n",
       "      <th>time_spend_with_company</th>\n",
       "      <th>work_accident</th>\n",
       "      <th>promotion</th>\n",
       "    </tr>\n",
       "    <tr>\n",
       "      <th>turnover_lebel</th>\n",
       "      <th></th>\n",
       "      <th></th>\n",
       "      <th></th>\n",
       "      <th></th>\n",
       "      <th></th>\n",
       "      <th></th>\n",
       "      <th></th>\n",
       "    </tr>\n",
       "  </thead>\n",
       "  <tbody>\n",
       "    <tr>\n",
       "      <th>0</th>\n",
       "      <td>0.666810</td>\n",
       "      <td>0.715473</td>\n",
       "      <td>3.786664</td>\n",
       "      <td>199.060203</td>\n",
       "      <td>3.380032</td>\n",
       "      <td>0.175009</td>\n",
       "      <td>0.026251</td>\n",
       "    </tr>\n",
       "    <tr>\n",
       "      <th>1</th>\n",
       "      <td>0.440098</td>\n",
       "      <td>0.718113</td>\n",
       "      <td>3.855503</td>\n",
       "      <td>207.419210</td>\n",
       "      <td>3.876505</td>\n",
       "      <td>0.047326</td>\n",
       "      <td>0.005321</td>\n",
       "    </tr>\n",
       "  </tbody>\n",
       "</table>\n",
       "</div>"
      ],
      "text/plain": [
       "                satisfaction_level  evaluation  number_project  \\\n",
       "turnover_lebel                                                   \n",
       "0                         0.666810    0.715473        3.786664   \n",
       "1                         0.440098    0.718113        3.855503   \n",
       "\n",
       "                avg_monthly_hours  time_spend_with_company  work_accident  \\\n",
       "turnover_lebel                                                              \n",
       "0                      199.060203                 3.380032       0.175009   \n",
       "1                      207.419210                 3.876505       0.047326   \n",
       "\n",
       "                promotion  \n",
       "turnover_lebel             \n",
       "0                0.026251  \n",
       "1                0.005321  "
      ]
     },
     "execution_count": 487,
     "metadata": {},
     "output_type": "execute_result"
    }
   ],
   "source": [
    "# Display the mean summary of Employees (Turnover V.S. Non-turnover). What do you notice between the groups?\n",
    "\n",
    "turnover_summary = data.groupby('turnover_lebel')\n",
    "turnover_summary.mean()"
   ]
  },
  {
   "cell_type": "code",
   "execution_count": 488,
   "id": "a10ca0af",
   "metadata": {},
   "outputs": [
    {
     "data": {
      "text/html": [
       "<div>\n",
       "<style scoped>\n",
       "    .dataframe tbody tr th:only-of-type {\n",
       "        vertical-align: middle;\n",
       "    }\n",
       "\n",
       "    .dataframe tbody tr th {\n",
       "        vertical-align: top;\n",
       "    }\n",
       "\n",
       "    .dataframe thead th {\n",
       "        text-align: right;\n",
       "    }\n",
       "</style>\n",
       "<table border=\"1\" class=\"dataframe\">\n",
       "  <thead>\n",
       "    <tr style=\"text-align: right;\">\n",
       "      <th></th>\n",
       "      <th>satisfaction_level</th>\n",
       "      <th>evaluation</th>\n",
       "      <th>number_project</th>\n",
       "      <th>avg_monthly_hours</th>\n",
       "      <th>time_spend_with_company</th>\n",
       "      <th>work_accident</th>\n",
       "      <th>promotion</th>\n",
       "      <th>turnover_lebel</th>\n",
       "    </tr>\n",
       "  </thead>\n",
       "  <tbody>\n",
       "    <tr>\n",
       "      <th>satisfaction_level</th>\n",
       "      <td>1.000000</td>\n",
       "      <td>0.105021</td>\n",
       "      <td>-0.142970</td>\n",
       "      <td>-0.020048</td>\n",
       "      <td>-0.100866</td>\n",
       "      <td>0.058697</td>\n",
       "      <td>0.025605</td>\n",
       "      <td>-0.388375</td>\n",
       "    </tr>\n",
       "    <tr>\n",
       "      <th>evaluation</th>\n",
       "      <td>0.105021</td>\n",
       "      <td>1.000000</td>\n",
       "      <td>0.349333</td>\n",
       "      <td>0.339742</td>\n",
       "      <td>0.131591</td>\n",
       "      <td>-0.007104</td>\n",
       "      <td>-0.008684</td>\n",
       "      <td>0.006567</td>\n",
       "    </tr>\n",
       "    <tr>\n",
       "      <th>number_project</th>\n",
       "      <td>-0.142970</td>\n",
       "      <td>0.349333</td>\n",
       "      <td>1.000000</td>\n",
       "      <td>0.417211</td>\n",
       "      <td>0.196786</td>\n",
       "      <td>-0.004741</td>\n",
       "      <td>-0.006064</td>\n",
       "      <td>0.023787</td>\n",
       "    </tr>\n",
       "    <tr>\n",
       "      <th>avg_monthly_hours</th>\n",
       "      <td>-0.020048</td>\n",
       "      <td>0.339742</td>\n",
       "      <td>0.417211</td>\n",
       "      <td>1.000000</td>\n",
       "      <td>0.127755</td>\n",
       "      <td>-0.010143</td>\n",
       "      <td>-0.003544</td>\n",
       "      <td>0.071287</td>\n",
       "    </tr>\n",
       "    <tr>\n",
       "      <th>time_spend_with_company</th>\n",
       "      <td>-0.100866</td>\n",
       "      <td>0.131591</td>\n",
       "      <td>0.196786</td>\n",
       "      <td>0.127755</td>\n",
       "      <td>1.000000</td>\n",
       "      <td>0.002120</td>\n",
       "      <td>0.067433</td>\n",
       "      <td>0.144822</td>\n",
       "    </tr>\n",
       "    <tr>\n",
       "      <th>work_accident</th>\n",
       "      <td>0.058697</td>\n",
       "      <td>-0.007104</td>\n",
       "      <td>-0.004741</td>\n",
       "      <td>-0.010143</td>\n",
       "      <td>0.002120</td>\n",
       "      <td>1.000000</td>\n",
       "      <td>0.039245</td>\n",
       "      <td>-0.154622</td>\n",
       "    </tr>\n",
       "    <tr>\n",
       "      <th>promotion</th>\n",
       "      <td>0.025605</td>\n",
       "      <td>-0.008684</td>\n",
       "      <td>-0.006064</td>\n",
       "      <td>-0.003544</td>\n",
       "      <td>0.067433</td>\n",
       "      <td>0.039245</td>\n",
       "      <td>1.000000</td>\n",
       "      <td>-0.061788</td>\n",
       "    </tr>\n",
       "    <tr>\n",
       "      <th>turnover_lebel</th>\n",
       "      <td>-0.388375</td>\n",
       "      <td>0.006567</td>\n",
       "      <td>0.023787</td>\n",
       "      <td>0.071287</td>\n",
       "      <td>0.144822</td>\n",
       "      <td>-0.154622</td>\n",
       "      <td>-0.061788</td>\n",
       "      <td>1.000000</td>\n",
       "    </tr>\n",
       "  </tbody>\n",
       "</table>\n",
       "</div>"
      ],
      "text/plain": [
       "                         satisfaction_level  evaluation  number_project  \\\n",
       "satisfaction_level                 1.000000    0.105021       -0.142970   \n",
       "evaluation                         0.105021    1.000000        0.349333   \n",
       "number_project                    -0.142970    0.349333        1.000000   \n",
       "avg_monthly_hours                 -0.020048    0.339742        0.417211   \n",
       "time_spend_with_company           -0.100866    0.131591        0.196786   \n",
       "work_accident                      0.058697   -0.007104       -0.004741   \n",
       "promotion                          0.025605   -0.008684       -0.006064   \n",
       "turnover_lebel                    -0.388375    0.006567        0.023787   \n",
       "\n",
       "                         avg_monthly_hours  time_spend_with_company  \\\n",
       "satisfaction_level               -0.020048                -0.100866   \n",
       "evaluation                        0.339742                 0.131591   \n",
       "number_project                    0.417211                 0.196786   \n",
       "avg_monthly_hours                 1.000000                 0.127755   \n",
       "time_spend_with_company           0.127755                 1.000000   \n",
       "work_accident                    -0.010143                 0.002120   \n",
       "promotion                        -0.003544                 0.067433   \n",
       "turnover_lebel                    0.071287                 0.144822   \n",
       "\n",
       "                         work_accident  promotion  turnover_lebel  \n",
       "satisfaction_level            0.058697   0.025605       -0.388375  \n",
       "evaluation                   -0.007104  -0.008684        0.006567  \n",
       "number_project               -0.004741  -0.006064        0.023787  \n",
       "avg_monthly_hours            -0.010143  -0.003544        0.071287  \n",
       "time_spend_with_company       0.002120   0.067433        0.144822  \n",
       "work_accident                 1.000000   0.039245       -0.154622  \n",
       "promotion                     0.039245   1.000000       -0.061788  \n",
       "turnover_lebel               -0.154622  -0.061788        1.000000  "
      ]
     },
     "execution_count": 488,
     "metadata": {},
     "output_type": "execute_result"
    },
    {
     "data": {
      "image/png": "[encoded data removed]",
      "text/plain": [
       "<Figure size 720x576 with 2 Axes>"
      ]
     },
     "metadata": {
      "needs_background": "light"
     },
     "output_type": "display_data"
    }
   ],
   "source": [
    "# Create a correlation matrix. What features correlate the most with turnover? What other correlations did you find?\n",
    "\n",
    "plt.figure(figsize=(10,8))\n",
    "\n",
    "correlation = data.corr()\n",
    "correlation = (correlation)\n",
    "sns.heatmap(correlation, \n",
    "            xticklabels=correlation.columns.values,\n",
    "            yticklabels=correlation.columns.values, annot=True)\n",
    "\n",
    "plt.title('Heatmap of Correlation Matrix', fontweight='bold')\n",
    "correlation"
   ]
  },
  {
   "cell_type": "code",
   "execution_count": 489,
   "id": "7ea5a348",
   "metadata": {},
   "outputs": [
    {
     "name": "stderr",
     "output_type": "stream",
     "text": [
      "c:\\Users\\nysok\\AppData\\Local\\Programs\\Python\\Python310\\lib\\site-packages\\seaborn\\distributions.py:2619: FutureWarning: `distplot` is a deprecated function and will be removed in a future version. Please adapt your code to use either `displot` (a figure-level function with similar flexibility) or `histplot` (an axes-level function for histograms).\n",
      "  warnings.warn(msg, FutureWarning)\n"
     ]
    },
    {
     "data": {
      "image/png": "[encoded data removed]",
      "text/plain": [
       "<Figure size 1080x432 with 3 Axes>"
      ]
     },
     "metadata": {
      "needs_background": "light"
     },
     "output_type": "display_data"
    }
   ],
   "source": [
    "# Set up the matplotlib figure\n",
    "f, axes = plt.subplots(ncols=3, figsize=(15, 6))\n",
    "\n",
    "# Graph Employee Satisfaction\n",
    "sns.distplot(data.satisfaction_level, kde = False, color=\"g\", ax=axes[0]).set_title('Employee Satisfaction Distribution')\n",
    "axes[0].set_ylabel('Employee Count')\n",
    "\n",
    "# Graph Employee Evaluation\n",
    "sns.distplot(data.evaluation, kde=False, color=\"r\", ax=axes[1]).set_title('Employee Evaluation Distribution')\n",
    "axes[1].set_ylabel('Employee Count')\n",
    "\n",
    "# Graph Employee Average Monthly Hours\n",
    "sns.distplot(data.avg_monthly_hours, kde=False, color=\"b\", ax=axes[2]).set_title('Employee Average Monthly Hours Distribution')\n",
    "axes[2].set_ylabel('Employee Count')\n",
    "\n",
    "plt.show()"
   ]
  },
  {
   "cell_type": "code",
   "execution_count": 490,
   "id": "f15ae47e",
   "metadata": {},
   "outputs": [
    {
     "data": {
      "image/png": "[encoded data removed]",
      "text/plain": [
       "<Figure size 1080x360 with 1 Axes>"
      ]
     },
     "metadata": {
      "needs_background": "light"
     },
     "output_type": "display_data"
    }
   ],
   "source": [
    "plt.figure(figsize=(15,5))\n",
    "sns.countplot(x=data.number_project,  order = data['number_project'].value_counts().index)\n",
    "plt.title('Employee - Number of Project', fontweight='bold')\n",
    "plt.show()"
   ]
  },
  {
   "cell_type": "code",
   "execution_count": 491,
   "id": "d9fef0aa",
   "metadata": {},
   "outputs": [
    {
     "data": {
      "image/png": "[encoded data removed]",
      "text/plain": [
       "<Figure size 1080x360 with 1 Axes>"
      ]
     },
     "metadata": {
      "needs_background": "light"
     },
     "output_type": "display_data"
    }
   ],
   "source": [
    "plt.figure(figsize=(15,5))\n",
    "sns.countplot(x=data.department, order = data['department'].value_counts().index)\n",
    "plt.title('Employee - Department From', fontweight='bold')\n",
    "plt.show()"
   ]
  },
  {
   "cell_type": "code",
   "execution_count": 492,
   "id": "3a59cbb2",
   "metadata": {},
   "outputs": [
    {
     "data": {
      "image/png": "[encoded data removed]",
      "text/plain": [
       "<Figure size 1080x360 with 1 Axes>"
      ]
     },
     "metadata": {
      "needs_background": "light"
     },
     "output_type": "display_data"
    }
   ],
   "source": [
    "plt.figure(figsize=(15,5))\n",
    "sns.countplot(x=data.salary,  order = data['salary'].value_counts().index)\n",
    "plt.title('Employee - Salary Ranking', fontweight='bold')\n",
    "plt.show()"
   ]
  },
  {
   "cell_type": "code",
   "execution_count": 493,
   "id": "e545fbd6",
   "metadata": {},
   "outputs": [
    {
     "data": {
      "image/png": "[encoded data removed]",
      "text/plain": [
       "<Figure size 1080x360 with 1 Axes>"
      ]
     },
     "metadata": {
      "needs_background": "light"
     },
     "output_type": "display_data"
    }
   ],
   "source": [
    "plt.figure(figsize=(15,5))\n",
    "sns.countplot(x=data.work_accident,  order = data['work_accident'].value_counts().index)\n",
    "plt.title('Employee - Work Accident', fontweight='bold')\n",
    "plt.show()"
   ]
  },
  {
   "cell_type": "code",
   "execution_count": 494,
   "id": "345460d3",
   "metadata": {},
   "outputs": [
    {
     "data": {
      "image/png": "[encoded data removed]",
      "text/plain": [
       "<Figure size 1080x360 with 1 Axes>"
      ]
     },
     "metadata": {
      "needs_background": "light"
     },
     "output_type": "display_data"
    }
   ],
   "source": [
    "plt.figure(figsize=(15,5))\n",
    "sns.countplot(x=data.promotion,  order = data['promotion'].value_counts().index)\n",
    "plt.title('Employee - Work Accident', fontweight='bold')\n",
    "plt.show()"
   ]
  },
  {
   "cell_type": "code",
   "execution_count": 495,
   "id": "3f906b8b",
   "metadata": {},
   "outputs": [
    {
     "data": {
      "image/png": "[encoded data removed]",
      "text/plain": [
       "<Figure size 720x360 with 1 Axes>"
      ]
     },
     "metadata": {},
     "output_type": "display_data"
    }
   ],
   "source": [
    "#let see turnover label\n",
    "\n",
    "plt.figure(figsize=(10,5))\n",
    "data['turnover_lebel'].value_counts().plot.pie(autopct='%.2f')\n",
    "plt.title('Employee Turnover Label', fontweight='bold')\n",
    "plt.show()"
   ]
  },
  {
   "cell_type": "markdown",
   "id": "59ee9a04",
   "metadata": {},
   "source": [
    "### Data Preprocessing \n",
    "<hr/>"
   ]
  },
  {
   "cell_type": "code",
   "execution_count": 496,
   "id": "4f268bc8",
   "metadata": {},
   "outputs": [
    {
     "data": {
      "text/html": [
       "<div>\n",
       "<style scoped>\n",
       "    .dataframe tbody tr th:only-of-type {\n",
       "        vertical-align: middle;\n",
       "    }\n",
       "\n",
       "    .dataframe tbody tr th {\n",
       "        vertical-align: top;\n",
       "    }\n",
       "\n",
       "    .dataframe thead th {\n",
       "        text-align: right;\n",
       "    }\n",
       "</style>\n",
       "<table border=\"1\" class=\"dataframe\">\n",
       "  <thead>\n",
       "    <tr style=\"text-align: right;\">\n",
       "      <th></th>\n",
       "      <th>turnover_lebel</th>\n",
       "      <th>promotion</th>\n",
       "      <th>department_RandD</th>\n",
       "      <th>department_accounting</th>\n",
       "      <th>department_hr</th>\n",
       "      <th>department_management</th>\n",
       "      <th>department_marketing</th>\n",
       "      <th>department_product_mng</th>\n",
       "      <th>department_sales</th>\n",
       "      <th>department_support</th>\n",
       "      <th>department_technical</th>\n",
       "      <th>salary_low</th>\n",
       "      <th>salary_medium</th>\n",
       "      <th>satisfaction_level</th>\n",
       "      <th>evaluation</th>\n",
       "      <th>number_project</th>\n",
       "      <th>avg_monthly_hours</th>\n",
       "      <th>time_spend_with_company</th>\n",
       "      <th>work_accident</th>\n",
       "    </tr>\n",
       "  </thead>\n",
       "  <tbody>\n",
       "    <tr>\n",
       "      <th>0</th>\n",
       "      <td>1</td>\n",
       "      <td>0</td>\n",
       "      <td>0</td>\n",
       "      <td>0</td>\n",
       "      <td>0</td>\n",
       "      <td>0</td>\n",
       "      <td>0</td>\n",
       "      <td>0</td>\n",
       "      <td>1</td>\n",
       "      <td>0</td>\n",
       "      <td>0</td>\n",
       "      <td>1</td>\n",
       "      <td>0</td>\n",
       "      <td>0.38</td>\n",
       "      <td>0.53</td>\n",
       "      <td>2</td>\n",
       "      <td>157</td>\n",
       "      <td>3</td>\n",
       "      <td>0</td>\n",
       "    </tr>\n",
       "    <tr>\n",
       "      <th>1</th>\n",
       "      <td>1</td>\n",
       "      <td>0</td>\n",
       "      <td>0</td>\n",
       "      <td>0</td>\n",
       "      <td>0</td>\n",
       "      <td>0</td>\n",
       "      <td>0</td>\n",
       "      <td>0</td>\n",
       "      <td>1</td>\n",
       "      <td>0</td>\n",
       "      <td>0</td>\n",
       "      <td>0</td>\n",
       "      <td>1</td>\n",
       "      <td>0.80</td>\n",
       "      <td>0.86</td>\n",
       "      <td>5</td>\n",
       "      <td>262</td>\n",
       "      <td>6</td>\n",
       "      <td>0</td>\n",
       "    </tr>\n",
       "    <tr>\n",
       "      <th>2</th>\n",
       "      <td>1</td>\n",
       "      <td>0</td>\n",
       "      <td>0</td>\n",
       "      <td>0</td>\n",
       "      <td>0</td>\n",
       "      <td>0</td>\n",
       "      <td>0</td>\n",
       "      <td>0</td>\n",
       "      <td>1</td>\n",
       "      <td>0</td>\n",
       "      <td>0</td>\n",
       "      <td>0</td>\n",
       "      <td>1</td>\n",
       "      <td>0.11</td>\n",
       "      <td>0.88</td>\n",
       "      <td>7</td>\n",
       "      <td>272</td>\n",
       "      <td>4</td>\n",
       "      <td>0</td>\n",
       "    </tr>\n",
       "    <tr>\n",
       "      <th>3</th>\n",
       "      <td>1</td>\n",
       "      <td>0</td>\n",
       "      <td>0</td>\n",
       "      <td>0</td>\n",
       "      <td>0</td>\n",
       "      <td>0</td>\n",
       "      <td>0</td>\n",
       "      <td>0</td>\n",
       "      <td>1</td>\n",
       "      <td>0</td>\n",
       "      <td>0</td>\n",
       "      <td>1</td>\n",
       "      <td>0</td>\n",
       "      <td>0.72</td>\n",
       "      <td>0.87</td>\n",
       "      <td>5</td>\n",
       "      <td>223</td>\n",
       "      <td>5</td>\n",
       "      <td>0</td>\n",
       "    </tr>\n",
       "    <tr>\n",
       "      <th>4</th>\n",
       "      <td>1</td>\n",
       "      <td>0</td>\n",
       "      <td>0</td>\n",
       "      <td>0</td>\n",
       "      <td>0</td>\n",
       "      <td>0</td>\n",
       "      <td>0</td>\n",
       "      <td>0</td>\n",
       "      <td>1</td>\n",
       "      <td>0</td>\n",
       "      <td>0</td>\n",
       "      <td>1</td>\n",
       "      <td>0</td>\n",
       "      <td>0.37</td>\n",
       "      <td>0.52</td>\n",
       "      <td>2</td>\n",
       "      <td>159</td>\n",
       "      <td>3</td>\n",
       "      <td>0</td>\n",
       "    </tr>\n",
       "  </tbody>\n",
       "</table>\n",
       "</div>"
      ],
      "text/plain": [
       "   turnover_lebel  promotion  department_RandD  department_accounting  \\\n",
       "0               1          0                 0                      0   \n",
       "1               1          0                 0                      0   \n",
       "2               1          0                 0                      0   \n",
       "3               1          0                 0                      0   \n",
       "4               1          0                 0                      0   \n",
       "\n",
       "   department_hr  department_management  department_marketing  \\\n",
       "0              0                      0                     0   \n",
       "1              0                      0                     0   \n",
       "2              0                      0                     0   \n",
       "3              0                      0                     0   \n",
       "4              0                      0                     0   \n",
       "\n",
       "   department_product_mng  department_sales  department_support  \\\n",
       "0                       0                 1                   0   \n",
       "1                       0                 1                   0   \n",
       "2                       0                 1                   0   \n",
       "3                       0                 1                   0   \n",
       "4                       0                 1                   0   \n",
       "\n",
       "   department_technical  salary_low  salary_medium  satisfaction_level  \\\n",
       "0                     0           1              0                0.38   \n",
       "1                     0           0              1                0.80   \n",
       "2                     0           0              1                0.11   \n",
       "3                     0           1              0                0.72   \n",
       "4                     0           1              0                0.37   \n",
       "\n",
       "   evaluation  number_project  avg_monthly_hours  time_spend_with_company  \\\n",
       "0        0.53               2                157                        3   \n",
       "1        0.86               5                262                        6   \n",
       "2        0.88               7                272                        4   \n",
       "3        0.87               5                223                        5   \n",
       "4        0.52               2                159                        3   \n",
       "\n",
       "   work_accident  \n",
       "0              0  \n",
       "1              0  \n",
       "2              0  \n",
       "3              0  \n",
       "4              0  "
      ]
     },
     "execution_count": 496,
     "metadata": {},
     "output_type": "execute_result"
    }
   ],
   "source": [
    "#Apply get_dummies() to the categorical variables. Seperate categorical variables and numeric variables, then combine them.\n",
    "\n",
    "\n",
    "category_variable = ['department','salary','turnover_lebel','promotion']\n",
    "numerical_variable = ['satisfaction_level','evaluation','number_project','avg_monthly_hours','time_spend_with_company', 'work_accident']\n",
    "categorical_data = pd.get_dummies(data[category_variable], drop_first=True)\n",
    "numerical_data = data[numerical_variable]\n",
    "\n",
    "df = pd.concat([categorical_data , numerical_data], axis=1)\n",
    "df.head()"
   ]
  },
  {
   "cell_type": "code",
   "execution_count": 497,
   "id": "f8aa7451",
   "metadata": {},
   "outputs": [],
   "source": [
    "# Create the X and y set\n",
    "X = df.iloc[:,1:]\n",
    "y = df.iloc[:,0]\n",
    "\n",
    "# Define train and test\n",
    "X_train, X_test, y_train, y_test = train_test_split(X , y, test_size=0.2, random_state=123, stratify=y)"
   ]
  },
  {
   "cell_type": "markdown",
   "id": "ae4b387d",
   "metadata": {},
   "source": [
    "### Training The Decision Tree Classifier Algorithm\n",
    "<hr >"
   ]
  },
  {
   "cell_type": "code",
   "execution_count": 498,
   "id": "876c8d40",
   "metadata": {},
   "outputs": [
    {
     "name": "stdout",
     "output_type": "stream",
     "text": [
      "CPU times: total: 31.2 ms\n",
      "Wall time: 33 ms\n"
     ]
    }
   ],
   "source": [
    "%%time\n",
    "from sklearn import tree\n",
    "from sklearn.tree import DecisionTreeClassifier\n",
    "# Decision Tree Model\n",
    "dtree = tree.DecisionTreeClassifier(\n",
    "    #max_depth=3,\n",
    "    class_weight=\"balanced\")\n",
    "dtree = dtree.fit(X_train,y_train)"
   ]
  },
  {
   "cell_type": "code",
   "execution_count": 499,
   "id": "e5320ce0",
   "metadata": {},
   "outputs": [],
   "source": [
    "# Define the 10-Fold Cross Validation\n",
    "kfold = model_selection.KFold(n_splits=10, random_state=7, shuffle=True)\n",
    "# Define the evaluation metric \n",
    "scoring = 'roc_auc'\n",
    "\n",
    "\n",
    "dtree_results = model_selection.cross_val_score(dtree, X_train, y_train, cv=kfold, scoring=scoring)"
   ]
  },
  {
   "cell_type": "code",
   "execution_count": 500,
   "id": "7c7676ac",
   "metadata": {},
   "outputs": [
    {
     "name": "stdout",
     "output_type": "stream",
     "text": [
      "0  /  0.9755434782608696\n",
      "1  /  0.9807453416149068\n",
      "2  /  0.9769768717966679\n",
      "3  /  0.965234320678626\n",
      "4  /  0.9612042326060494\n",
      "5  /  0.9708152897430796\n",
      "6  /  0.9688888888888889\n",
      "7  /  0.9812488467925456\n",
      "8  /  0.9810741428549135\n",
      "9  /  0.963416058284173\n"
     ]
    }
   ],
   "source": [
    "#print each accuracy of kfold cross validation\n",
    "for i,j in enumerate(dtree_results):\n",
    "    print(i,\" / \", j)"
   ]
  },
  {
   "cell_type": "code",
   "execution_count": 501,
   "id": "dbcb8095",
   "metadata": {},
   "outputs": [
    {
     "name": "stdout",
     "output_type": "stream",
     "text": [
      "************************************************************************************************************\n",
      "\n",
      "The Random Forest AUC: 0.973 and the STD is (nan)\n",
      "\n",
      "************************************************************************************************************\n"
     ]
    }
   ],
   "source": [
    "# Print out the mean and standard deviation of the training score\n",
    "dtree_auc = dtree_results.mean()\n",
    "print(\"**\"*54)\n",
    "print()\n",
    "print(\"The Random Forest AUC: %.3f and the STD is (%.3f)\" % (dtree_auc, dtree_result.std()))\n",
    "print()\n",
    "print(\"**\"*54)"
   ]
  },
  {
   "cell_type": "code",
   "execution_count": 502,
   "id": "074c3f9b",
   "metadata": {},
   "outputs": [
    {
     "name": "stdout",
     "output_type": "stream",
     "text": [
      "\n",
      "\n",
      " ---Decision Tree Model--\n",
      "\n",
      "\n",
      "Decision Tree AUC = 0.98\n",
      "              precision    recall  f1-score   support\n",
      "\n",
      "           0       0.99      0.99      0.99      2286\n",
      "           1       0.96      0.98      0.97       714\n",
      "\n",
      "    accuracy                           0.98      3000\n",
      "   macro avg       0.98      0.98      0.98      3000\n",
      "weighted avg       0.99      0.98      0.99      3000\n",
      "\n"
     ]
    }
   ],
   "source": [
    "from sklearn.metrics import roc_auc_score\n",
    "\n",
    "print (\"\\n\\n ---Decision Tree Model--\")\n",
    "print()\n",
    "print()\n",
    "dt_roc_auc = roc_auc_score(y_test, dtree.predict(X_test))\n",
    "print (\"Decision Tree AUC = %2.2f\" % dt_roc_auc)\n",
    "print(classification_report(y_test, dtree.predict(X_test)))"
   ]
  }
 ],
 "metadata": {
  "kernelspec": {
   "display_name": "Python 3 (ipykernel)",
   "language": "python",
   "name": "python3"
  },
  "language_info": {
   "codemirror_mode": {
    "name": "ipython",
    "version": 3
   },
   "file_extension": ".py",
   "mimetype": "text/x-python",
   "name": "python",
   "nbconvert_exporter": "python",
   "pygments_lexer": "ipython3",
   "version": "3.9.7"
  },
  "vscode": {
   "interpreter": {
    "hash": "d230d5a1e8c3b53add7612494a51f002497855cc789aa21ce7a73e5511788e94"
   }
  }
 },
 "nbformat": 4,
 "nbformat_minor": 5
}
